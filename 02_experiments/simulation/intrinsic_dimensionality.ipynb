{
 "cells": [
  {
   "cell_type": "code",
   "execution_count": 1,
   "metadata": {},
   "outputs": [
    {
     "name": "stdout",
     "output_type": "stream",
     "text": [
      "/home/vschuste/projects/interpreting_omics_models/02_experiments/simulation\n",
      "/home/vschuste/projects/interpreting_omics_models\n"
     ]
    }
   ],
   "source": [
    "import numpy as np\n",
    "import torch\n",
    "import matplotlib.pyplot as plt\n",
    "import pandas as pd\n",
    "import seaborn as sns\n",
    "import torch\n",
    "import random\n",
    "import math\n",
    "\n",
    "# print directory\n",
    "import os\n",
    "print(os.getcwd())\n",
    "os.chdir(\"../..\")\n",
    "print(os.getcwd())\n",
    "\n",
    "# set a random seed\n",
    "seed = 0\n",
    "\n",
    "torch.manual_seed(seed)\n",
    "torch.cuda.manual_seed(seed)\n",
    "np.random.seed(seed)\n",
    "random.seed(seed)"
   ]
  },
  {
   "cell_type": "markdown",
   "metadata": {},
   "source": [
    "## Load the data"
   ]
  },
  {
   "cell_type": "code",
   "execution_count": 2,
   "metadata": {},
   "outputs": [],
   "source": [
    "complexity = 'high'\n",
    "n_samples = 100000\n",
    "data_dir = '/home/vschuste/data/simulation/'\n",
    "\n",
    "for seed in range(10):\n",
    "    temp_y = torch.load(data_dir+'large_{}-complexity_rs{}_y.pt'.format(complexity, seed), weights_only=False)\n",
    "    if seed == 0:\n",
    "        rna_counts = temp_y\n",
    "    else:\n",
    "        rna_counts = torch.cat((rna_counts, temp_y), dim=0)\n",
    "# limit to the training data\n",
    "n_samples_train = int(n_samples*0.9)\n",
    "rna_counts = rna_counts[:n_samples_train]"
   ]
  },
  {
   "cell_type": "code",
   "execution_count": 3,
   "metadata": {},
   "outputs": [],
   "source": [
    "# save the norms\n",
    "norms = torch.load('01_data/large_y_sim_pairwise_distances.pt', weights_only=False)"
   ]
  },
  {
   "cell_type": "markdown",
   "metadata": {},
   "source": [
    "# Intrinsic dimensionality estimation techniques"
   ]
  },
  {
   "cell_type": "code",
   "execution_count": 3,
   "metadata": {},
   "outputs": [],
   "source": [
    "sim_benchmark = {}"
   ]
  },
  {
   "cell_type": "markdown",
   "metadata": {},
   "source": [
    "## Old and simple"
   ]
  },
  {
   "cell_type": "markdown",
   "metadata": {},
   "source": [
    "### PCA"
   ]
  },
  {
   "cell_type": "code",
   "execution_count": null,
   "metadata": {},
   "outputs": [],
   "source": [
    "# perform a PCa on the data\n",
    "\n",
    "from sklearn.decomposition import PCA\n",
    "\n",
    "# measure execution time\n",
    "import time\n",
    "start_time = time.time()\n",
    "\n",
    "pca = PCA(n_components=rna_counts.shape[1])\n",
    "pca.fit(rna_counts)\n",
    "\n",
    "end_time = time.time()\n",
    "# return time in minutes\n",
    "print(\"Execution time: {} minutes\".format((end_time - start_time)/60))"
   ]
  },
  {
   "cell_type": "code",
   "execution_count": 11,
   "metadata": {},
   "outputs": [
    {
     "data": {
      "image/png": "[encoded data removed]",
      "text/plain": [
       "<Figure size 500x300 with 1 Axes>"
      ]
     },
     "metadata": {},
     "output_type": "display_data"
    },
    {
     "name": "stdout",
     "output_type": "stream",
     "text": [
      "Number of components explaining 90.0% variance: 31\n",
      "Number of components explaining 95.0% variance: 44\n",
      "Number of components explaining 99.0% variance: 78\n",
      "Number of components explaining 99.9999% variance: 99\n"
     ]
    }
   ],
   "source": [
    "fig, ax = plt.subplots(figsize=(5, 3))\n",
    "plt.plot(np.cumsum(pca.explained_variance_ratio_))\n",
    "plt.xscale('log')\n",
    "plt.xlabel('Number of components')\n",
    "plt.ylabel('Explained variance')\n",
    "# draw a line at 90% explained variance\n",
    "plt.axhline(y=0.9, color='r', linestyle='-')\n",
    "plt.show()\n",
    "\n",
    "for threshold in [0.9, 0.95, 0.99, 0.999999]:\n",
    "    print(\"Number of components explaining {}% variance: {}\".format(threshold * 100, np.where(np.cumsum(pca.explained_variance_ratio_) > threshold)[0][0]))"
   ]
  },
  {
   "cell_type": "code",
   "execution_count": 4,
   "metadata": {},
   "outputs": [],
   "source": [
    "sim_benchmark['pca'] = {'time': 18, 'd': 31}"
   ]
  },
  {
   "cell_type": "markdown",
   "metadata": {},
   "source": [
    "### Correlation"
   ]
  },
  {
   "cell_type": "code",
   "execution_count": 25,
   "metadata": {},
   "outputs": [
    {
     "data": {
      "text/plain": [
       "9.90848501887865"
      ]
     },
     "execution_count": 25,
     "metadata": {},
     "output_type": "execute_result"
    }
   ],
   "source": [
    "# for this method, we must fulfil the condition that D is smaller than, which in this case is not going to happen\n",
    "# but let's try anyways\n",
    "\n",
    "2 * np.log10(rna_counts.shape[0])"
   ]
  },
  {
   "cell_type": "code",
   "execution_count": 4,
   "metadata": {},
   "outputs": [],
   "source": [
    "device = torch.device('cuda' if torch.cuda.is_available() else 'cpu')\n",
    "\n",
    "rna_counts = rna_counts.to(device)"
   ]
  },
  {
   "cell_type": "code",
   "execution_count": 7,
   "metadata": {},
   "outputs": [
    {
     "name": "stderr",
     "output_type": "stream",
     "text": [
      "100%|██████████| 90000/90000 [46:42<00:00, 32.12it/s]\n",
      "100%|██████████| 100/100 [16:57<00:00, 10.18s/it]"
     ]
    },
    {
     "name": "stdout",
     "output_type": "stream",
     "text": [
      "Execution time: 63.6831848303477 minutes\n"
     ]
    },
    {
     "name": "stderr",
     "output_type": "stream",
     "text": [
      "\n"
     ]
    }
   ],
   "source": [
    "n = rna_counts.shape[0]\n",
    "\n",
    "def indicator_fn(x, y, epsilon):\n",
    "    #if torch.cuda.is_available():\n",
    "    return torch.norm(x - y, dim=1) < epsilon\n",
    "    #else:\n",
    "    #    return np.linalg.norm(x - y) < epsilon\n",
    "\n",
    "# measure execution time\n",
    "import time\n",
    "start_time = time.time()\n",
    "\n",
    "r_values = np.linspace(0.001, 1.0, 100)\n",
    "correlation_integrals = np.zeros(len(r_values))\n",
    "\n",
    "import tqdm\n",
    "\n",
    "# not enough memory\n",
    "#norms = torch.norm(rna_counts.unsqueeze(1) - rna_counts.unsqueeze(0), dim=1)\n",
    "norms = torch.zeros(n, n)\n",
    "for i in tqdm.tqdm(range(n)):\n",
    "    norms[i] = torch.norm(rna_counts - rna_counts[i], dim=1)\n",
    "\n",
    "for idx, r in enumerate(tqdm.tqdm(r_values)):\n",
    "    #correlation_integrals[idx] = (2 / (n*(n-1))) * torch.sum([torch.sum(indicator_fn(rna_counts[i,:], rna_counts[i+1:,:], r)) for i in range(n)])\n",
    "    # even faster: compute all against all and use triangle matrix, but not enough memory\n",
    "    correlation_integrals[idx] = (2 / (n*(n-1))) * torch.sum(torch.triu(norms < r, diagonal=1))\n",
    "\n",
    "end_time = time.time()\n",
    "# return time in minutes\n",
    "print(\"Execution time: {} minutes\".format((end_time - start_time)/60))"
   ]
  },
  {
   "cell_type": "code",
   "execution_count": 40,
   "metadata": {},
   "outputs": [],
   "source": [
    "# save the norms\n",
    "torch.save(norms, '01_data/large_y_sim_pairwise_distances.pt')"
   ]
  },
  {
   "cell_type": "code",
   "execution_count": 12,
   "metadata": {},
   "outputs": [
    {
     "name": "stdout",
     "output_type": "stream",
     "text": [
      "tensor(242.2432)\n",
      "tensor(4388.8413)\n"
     ]
    }
   ],
   "source": [
    "# what is the minimum and maximum value of the norms upper triangle?\n",
    "print(torch.min(norms[torch.triu(torch.ones(n, n), diagonal=1) == 1]))\n",
    "print(torch.max(norms[torch.triu(torch.ones(n, n), diagonal=1) == 1]))"
   ]
  },
  {
   "cell_type": "code",
   "execution_count": 13,
   "metadata": {},
   "outputs": [
    {
     "name": "stderr",
     "output_type": "stream",
     "text": [
      "100%|██████████| 100/100 [16:58<00:00, 10.19s/it]\n"
     ]
    }
   ],
   "source": [
    "r_values = np.linspace(250, 4000, 100)\n",
    "for idx, r in enumerate(tqdm.tqdm(r_values)):\n",
    "    #correlation_integrals[idx] = (2 / (n*(n-1))) * torch.sum([torch.sum(indicator_fn(rna_counts[i,:], rna_counts[i+1:,:], r)) for i in range(n)])\n",
    "    # even faster: compute all against all and use triangle matrix, but not enough memory\n",
    "    correlation_integrals[idx] = (2 / (n*(n-1))) * torch.sum(torch.triu(norms < r, diagonal=1))"
   ]
  },
  {
   "cell_type": "code",
   "execution_count": 14,
   "metadata": {},
   "outputs": [
    {
     "data": {
      "image/png": "[encoded data removed]",
      "text/plain": [
       "<Figure size 500x300 with 1 Axes>"
      ]
     },
     "metadata": {},
     "output_type": "display_data"
    }
   ],
   "source": [
    "# log-log plot\n",
    "\n",
    "fig, ax = plt.subplots(figsize=(5, 3))\n",
    "plt.plot(np.log(r_values), np.log(correlation_integrals))\n",
    "plt.xlabel('log(r)')\n",
    "plt.ylabel('log(C(r))')\n",
    "plt.show()"
   ]
  },
  {
   "cell_type": "code",
   "execution_count": 24,
   "metadata": {},
   "outputs": [
    {
     "name": "stdout",
     "output_type": "stream",
     "text": [
      "1 5\n",
      "Slope of the linear model: 17.928392892441696\n"
     ]
    },
    {
     "data": {
      "image/png": "[encoded data removed]",
      "text/plain": [
       "<Figure size 500x300 with 1 Axes>"
      ]
     },
     "metadata": {},
     "output_type": "display_data"
    }
   ],
   "source": [
    "# fit a linear model to the log-log plot (between lor(r) = 5.5 and log(r) = 6.5)\n",
    "\n",
    "start_idx = np.where(np.log(r_values) >= 5.6)[0][0]\n",
    "end_idx = np.where(np.log(r_values) > 6.0)[0][0]\n",
    "print(start_idx, end_idx)\n",
    "\n",
    "from sklearn.linear_model import LinearRegression\n",
    "\n",
    "# fit a linear model to the log-log plot\n",
    "lr = LinearRegression()\n",
    "lr.fit(np.log(r_values[start_idx:end_idx]).reshape(-1, 1), np.log(correlation_integrals[start_idx:end_idx]))\n",
    "\n",
    "print(\"Slope of the linear model: {}\".format(lr.coef_[0]))\n",
    "\n",
    "# plot the linear model into the log-log plot\n",
    "fig, ax = plt.subplots(figsize=(5, 3))\n",
    "plt.plot(np.log(r_values), np.log(correlation_integrals))\n",
    "plt.plot(np.log(r_values[start_idx:end_idx]), lr.coef_[0]*np.log(r_values[start_idx:end_idx]) + lr.intercept_)\n",
    "plt.xlabel('log(r)')\n",
    "plt.ylabel('log(C(r))')\n",
    "plt.show()\n"
   ]
  },
  {
   "cell_type": "code",
   "execution_count": 25,
   "metadata": {},
   "outputs": [],
   "source": [
    "sim_benchmark['correlation'] = {'time': 63, 'd': 18}"
   ]
  },
  {
   "cell_type": "markdown",
   "metadata": {},
   "source": [
    "### Distance exponent"
   ]
  },
  {
   "cell_type": "code",
   "execution_count": 32,
   "metadata": {},
   "outputs": [
    {
     "name": "stderr",
     "output_type": "stream",
     "text": [
      "100%|██████████| 100/100 [17:02<00:00, 10.22s/it]\n"
     ]
    }
   ],
   "source": [
    "# for the r_values, calculate the average number of distances less than r\n",
    "# the power law states that this scales proportionally to r^d\n",
    "\n",
    "import math\n",
    "avg_n_distances = np.zeros(len(r_values))\n",
    "\n",
    "for idx, r in enumerate(tqdm.tqdm(r_values)):\n",
    "    avg_n_distances[idx] = (1/sum(range(n))) * torch.sum(torch.triu(norms < r, diagonal=1))"
   ]
  },
  {
   "cell_type": "code",
   "execution_count": 33,
   "metadata": {},
   "outputs": [
    {
     "data": {
      "image/png": "[encoded data removed]",
      "text/plain": [
       "<Figure size 500x300 with 1 Axes>"
      ]
     },
     "metadata": {},
     "output_type": "display_data"
    }
   ],
   "source": [
    "# log-log plot\n",
    "\n",
    "fig, ax = plt.subplots(figsize=(5, 3))\n",
    "plt.plot(np.log(r_values), np.log(avg_n_distances))\n",
    "plt.xlabel('log(r)')\n",
    "plt.ylabel('log(nb(r))')\n",
    "plt.show()"
   ]
  },
  {
   "cell_type": "markdown",
   "metadata": {},
   "source": [
    "## Scikit-dimension"
   ]
  },
  {
   "cell_type": "code",
   "execution_count": 3,
   "metadata": {},
   "outputs": [],
   "source": [
    "#!pip install scikit-dimension\n",
    "import skdim\n",
    "import time"
   ]
  },
  {
   "cell_type": "code",
   "execution_count": 4,
   "metadata": {},
   "outputs": [],
   "source": [
    "rna_counts = rna_counts.cpu().numpy()"
   ]
  },
  {
   "cell_type": "code",
   "execution_count": 37,
   "metadata": {},
   "outputs": [
    {
     "name": "stdout",
     "output_type": "stream",
     "text": [
      "Execution time: 10.82130072514216 minutes\n",
      "Estimated intrinsic dimension: 32\n"
     ]
    }
   ],
   "source": [
    "start_time = time.time()\n",
    "\n",
    "pca_dim = skdim.id.lPCA().fit(rna_counts).dimension_\n",
    "\n",
    "end_time = time.time()\n",
    "print(\"Execution time: {} minutes\".format((end_time - start_time)/60))\n",
    "print(\"Estimated intrinsic dimension: {}\".format(pca_dim))"
   ]
  },
  {
   "cell_type": "code",
   "execution_count": 38,
   "metadata": {},
   "outputs": [
    {
     "name": "stdout",
     "output_type": "stream",
     "text": [
      "Execution time: 20.558450043201447 minutes\n",
      "Estimated intrinsic dimension: 10.646233891667121\n"
     ]
    }
   ],
   "source": [
    "start_time = time.time()\n",
    "\n",
    "pca_dim = skdim.id.CorrInt().fit(rna_counts).dimension_\n",
    "\n",
    "end_time = time.time()\n",
    "print(\"Execution time: {} minutes\".format((end_time - start_time)/60))\n",
    "print(\"Estimated intrinsic dimension: {}\".format(pca_dim))"
   ]
  },
  {
   "cell_type": "code",
   "execution_count": 11,
   "metadata": {},
   "outputs": [
    {
     "ename": "KeyboardInterrupt",
     "evalue": "",
     "output_type": "error",
     "traceback": [
      "\u001b[0;31m---------------------------------------------------------------------------\u001b[0m",
      "\u001b[0;31mKeyboardInterrupt\u001b[0m                         Traceback (most recent call last)",
      "Cell \u001b[0;32mIn[11], line 3\u001b[0m\n\u001b[1;32m      1\u001b[0m start_time \u001b[38;5;241m=\u001b[39m time\u001b[38;5;241m.\u001b[39mtime()\n\u001b[0;32m----> 3\u001b[0m pca_dim \u001b[38;5;241m=\u001b[39m \u001b[43mskdim\u001b[49m\u001b[38;5;241;43m.\u001b[39;49m\u001b[43mid\u001b[49m\u001b[38;5;241;43m.\u001b[39;49m\u001b[43mDANCo\u001b[49m\u001b[43m(\u001b[49m\u001b[43m)\u001b[49m\u001b[38;5;241;43m.\u001b[39;49m\u001b[43mfit\u001b[49m\u001b[43m(\u001b[49m\u001b[43mrna_counts\u001b[49m\u001b[43m)\u001b[49m\u001b[38;5;241m.\u001b[39mdimension_\n\u001b[1;32m      5\u001b[0m end_time \u001b[38;5;241m=\u001b[39m time\u001b[38;5;241m.\u001b[39mtime()\n\u001b[1;32m      6\u001b[0m \u001b[38;5;28mprint\u001b[39m(\u001b[38;5;124m\"\u001b[39m\u001b[38;5;124mExecution time: \u001b[39m\u001b[38;5;132;01m{}\u001b[39;00m\u001b[38;5;124m minutes\u001b[39m\u001b[38;5;124m\"\u001b[39m\u001b[38;5;241m.\u001b[39mformat((end_time \u001b[38;5;241m-\u001b[39m start_time)\u001b[38;5;241m/\u001b[39m\u001b[38;5;241m60\u001b[39m))\n",
      "File \u001b[0;32m~/miniconda3/envs/sc_mechinterp/lib/python3.9/site-packages/skdim/id/_DANCo.py:128\u001b[0m, in \u001b[0;36mDANCo.fit\u001b[0;34m(self, X, y)\u001b[0m\n\u001b[1;32m    122\u001b[0m     \u001b[38;5;28mself\u001b[39m\u001b[38;5;241m.\u001b[39mdimension_ \u001b[38;5;241m=\u001b[39m \u001b[38;5;28mself\u001b[39m\u001b[38;5;241m.\u001b[39m_dancoDimEst(X)\n\u001b[1;32m    123\u001b[0m \u001b[38;5;28;01melse\u001b[39;00m:\n\u001b[1;32m    124\u001b[0m     (\n\u001b[1;32m    125\u001b[0m         \u001b[38;5;28mself\u001b[39m\u001b[38;5;241m.\u001b[39mdimension_,\n\u001b[1;32m    126\u001b[0m         \u001b[38;5;28mself\u001b[39m\u001b[38;5;241m.\u001b[39mkl_divergence_,\n\u001b[1;32m    127\u001b[0m         \u001b[38;5;28mself\u001b[39m\u001b[38;5;241m.\u001b[39mcalibration_data_,\n\u001b[0;32m--> 128\u001b[0m     ) \u001b[38;5;241m=\u001b[39m \u001b[38;5;28;43mself\u001b[39;49m\u001b[38;5;241;43m.\u001b[39;49m\u001b[43m_dancoDimEst\u001b[49m\u001b[43m(\u001b[49m\u001b[43mX\u001b[49m\u001b[43m)\u001b[49m\n\u001b[1;32m    130\u001b[0m \u001b[38;5;28mself\u001b[39m\u001b[38;5;241m.\u001b[39mis_fitted_ \u001b[38;5;241m=\u001b[39m \u001b[38;5;28;01mTrue\u001b[39;00m\n\u001b[1;32m    131\u001b[0m \u001b[38;5;66;03m# `fit` should always return `self`\u001b[39;00m\n",
      "File \u001b[0;32m~/miniconda3/envs/sc_mechinterp/lib/python3.9/site-packages/skdim/id/_DANCo.py:379\u001b[0m, in \u001b[0;36mDANCo._dancoDimEst\u001b[0;34m(self, X)\u001b[0m\n\u001b[1;32m    377\u001b[0m         \u001b[38;5;66;03m# compute statistics\u001b[39;00m\n\u001b[1;32m    378\u001b[0m         \u001b[38;5;28;01mwhile\u001b[39;00m cal[\u001b[38;5;124m\"\u001b[39m\u001b[38;5;124mmaxdim\u001b[39m\u001b[38;5;124m\"\u001b[39m] \u001b[38;5;241m<\u001b[39m \u001b[38;5;28mself\u001b[39m\u001b[38;5;241m.\u001b[39m_D:\n\u001b[0;32m--> 379\u001b[0m             cal \u001b[38;5;241m=\u001b[39m \u001b[38;5;28;43mself\u001b[39;49m\u001b[38;5;241;43m.\u001b[39;49m\u001b[43m_increaseMaxDimByOne\u001b[49m\u001b[43m(\u001b[49m\u001b[43mcal\u001b[49m\u001b[43m)\u001b[49m\n\u001b[1;32m    381\u001b[0m kl \u001b[38;5;241m=\u001b[39m np\u001b[38;5;241m.\u001b[39marray([np\u001b[38;5;241m.\u001b[39mnan] \u001b[38;5;241m*\u001b[39m \u001b[38;5;28mself\u001b[39m\u001b[38;5;241m.\u001b[39m_D)\n\u001b[1;32m    382\u001b[0m \u001b[38;5;28;01mfor\u001b[39;00m d \u001b[38;5;129;01min\u001b[39;00m \u001b[38;5;28mrange\u001b[39m(\u001b[38;5;28mself\u001b[39m\u001b[38;5;241m.\u001b[39m_D):\n",
      "File \u001b[0;32m~/miniconda3/envs/sc_mechinterp/lib/python3.9/site-packages/skdim/id/_DANCo.py:290\u001b[0m, in \u001b[0;36mDANCo._increaseMaxDimByOne\u001b[0;34m(self, dancoCalDat)\u001b[0m\n\u001b[1;32m    287\u001b[0m newdim \u001b[38;5;241m=\u001b[39m dancoCalDat[\u001b[38;5;124m\"\u001b[39m\u001b[38;5;124mmaxdim\u001b[39m\u001b[38;5;124m\"\u001b[39m] \u001b[38;5;241m+\u001b[39m \u001b[38;5;241m1\u001b[39m\n\u001b[1;32m    288\u001b[0m MIND_MLx_maxdim \u001b[38;5;241m=\u001b[39m newdim \u001b[38;5;241m*\u001b[39m \u001b[38;5;241m2\u001b[39m \u001b[38;5;241m+\u001b[39m \u001b[38;5;241m5\u001b[39m\n\u001b[1;32m    289\u001b[0m dancoCalDat[\u001b[38;5;124m\"\u001b[39m\u001b[38;5;124mcalibration_data\u001b[39m\u001b[38;5;124m\"\u001b[39m]\u001b[38;5;241m.\u001b[39mappend(\n\u001b[0;32m--> 290\u001b[0m     \u001b[38;5;28;43mself\u001b[39;49m\u001b[38;5;241;43m.\u001b[39;49m\u001b[43m_dancoDimEstNoCalibration\u001b[49m\u001b[43m(\u001b[49m\n\u001b[1;32m    291\u001b[0m \u001b[43m        \u001b[49m\u001b[43mhyperBall\u001b[49m\u001b[43m(\u001b[49m\n\u001b[1;32m    292\u001b[0m \u001b[43m            \u001b[49m\u001b[43mdancoCalDat\u001b[49m\u001b[43m[\u001b[49m\u001b[38;5;124;43m\"\u001b[39;49m\u001b[38;5;124;43mN\u001b[39;49m\u001b[38;5;124;43m\"\u001b[39;49m\u001b[43m]\u001b[49m\u001b[43m,\u001b[49m\n\u001b[1;32m    293\u001b[0m \u001b[43m            \u001b[49m\u001b[43mnewdim\u001b[49m\u001b[43m,\u001b[49m\n\u001b[1;32m    294\u001b[0m \u001b[43m            \u001b[49m\u001b[38;5;241;43m1\u001b[39;49m\u001b[43m,\u001b[49m\n\u001b[1;32m    295\u001b[0m \u001b[43m            \u001b[49m\u001b[43mcenter\u001b[49m\u001b[38;5;241;43m=\u001b[39;49m\u001b[43m[\u001b[49m\u001b[38;5;241;43m0\u001b[39;49m\u001b[43m]\u001b[49m\u001b[43m \u001b[49m\u001b[38;5;241;43m*\u001b[39;49m\u001b[43m \u001b[49m\u001b[43mnewdim\u001b[49m\u001b[43m,\u001b[49m\n\u001b[1;32m    296\u001b[0m \u001b[43m            \u001b[49m\u001b[43mrandom_state\u001b[49m\u001b[38;5;241;43m=\u001b[39;49m\u001b[38;5;28;43mself\u001b[39;49m\u001b[38;5;241;43m.\u001b[39;49m\u001b[43mrandom_state_\u001b[49m\u001b[43m,\u001b[49m\n\u001b[1;32m    297\u001b[0m \u001b[43m        \u001b[49m\u001b[43m)\u001b[49m\u001b[43m,\u001b[49m\n\u001b[1;32m    298\u001b[0m \u001b[43m        \u001b[49m\u001b[43mdancoCalDat\u001b[49m\u001b[43m[\u001b[49m\u001b[38;5;124;43m\"\u001b[39;49m\u001b[38;5;124;43mk\u001b[39;49m\u001b[38;5;124;43m\"\u001b[39;49m\u001b[43m]\u001b[49m\u001b[43m,\u001b[49m\n\u001b[1;32m    299\u001b[0m \u001b[43m        \u001b[49m\u001b[43mMIND_MLx_maxdim\u001b[49m\u001b[43m,\u001b[49m\n\u001b[1;32m    300\u001b[0m \u001b[43m    \u001b[49m\u001b[43m)\u001b[49m\n\u001b[1;32m    301\u001b[0m )\n\u001b[1;32m    302\u001b[0m dancoCalDat[\u001b[38;5;124m\"\u001b[39m\u001b[38;5;124mmaxdim\u001b[39m\u001b[38;5;124m\"\u001b[39m] \u001b[38;5;241m=\u001b[39m newdim\n\u001b[1;32m    303\u001b[0m \u001b[38;5;28;01mreturn\u001b[39;00m dancoCalDat\n",
      "File \u001b[0;32m~/miniconda3/envs/sc_mechinterp/lib/python3.9/site-packages/skdim/id/_DANCo.py:268\u001b[0m, in \u001b[0;36mDANCo._dancoDimEstNoCalibration\u001b[0;34m(self, X, D, n_jobs)\u001b[0m\n\u001b[1;32m    267\u001b[0m \u001b[38;5;28;01mdef\u001b[39;00m \u001b[38;5;21m_dancoDimEstNoCalibration\u001b[39m(\u001b[38;5;28mself\u001b[39m, X, D, n_jobs\u001b[38;5;241m=\u001b[39m\u001b[38;5;241m1\u001b[39m):\n\u001b[0;32m--> 268\u001b[0m     nbh_data, idx \u001b[38;5;241m=\u001b[39m \u001b[43mget_nn\u001b[49m\u001b[43m(\u001b[49m\u001b[43mX\u001b[49m\u001b[43m,\u001b[49m\u001b[43m \u001b[49m\u001b[38;5;28;43mself\u001b[39;49m\u001b[38;5;241;43m.\u001b[39;49m\u001b[43m_k\u001b[49m\u001b[43m \u001b[49m\u001b[38;5;241;43m+\u001b[39;49m\u001b[43m \u001b[49m\u001b[38;5;241;43m1\u001b[39;49m\u001b[43m,\u001b[49m\u001b[43m \u001b[49m\u001b[43mn_jobs\u001b[49m\u001b[38;5;241;43m=\u001b[39;49m\u001b[43mn_jobs\u001b[49m\u001b[43m)\u001b[49m\n\u001b[1;32m    269\u001b[0m     rhos \u001b[38;5;241m=\u001b[39m nbh_data[:, \u001b[38;5;241m0\u001b[39m] \u001b[38;5;241m/\u001b[39m nbh_data[:, \u001b[38;5;241m-\u001b[39m\u001b[38;5;241m1\u001b[39m]\n\u001b[1;32m    270\u001b[0m     d_MIND_MLi \u001b[38;5;241m=\u001b[39m \u001b[38;5;28mself\u001b[39m\u001b[38;5;241m.\u001b[39m_MIND_MLi(rhos, D)\n",
      "File \u001b[0;32m~/miniconda3/envs/sc_mechinterp/lib/python3.9/site-packages/skdim/_commonfuncs.py:101\u001b[0m, in \u001b[0;36mget_nn\u001b[0;34m(X, k, n_jobs)\u001b[0m\n\u001b[1;32m     99\u001b[0m neigh \u001b[38;5;241m=\u001b[39m NearestNeighbors(n_neighbors\u001b[38;5;241m=\u001b[39mk, n_jobs\u001b[38;5;241m=\u001b[39mn_jobs)\n\u001b[1;32m    100\u001b[0m neigh\u001b[38;5;241m.\u001b[39mfit(X)\n\u001b[0;32m--> 101\u001b[0m dists, inds \u001b[38;5;241m=\u001b[39m \u001b[43mneigh\u001b[49m\u001b[38;5;241;43m.\u001b[39;49m\u001b[43mkneighbors\u001b[49m\u001b[43m(\u001b[49m\u001b[43mreturn_distance\u001b[49m\u001b[38;5;241;43m=\u001b[39;49m\u001b[38;5;28;43;01mTrue\u001b[39;49;00m\u001b[43m)\u001b[49m\n\u001b[1;32m    102\u001b[0m \u001b[38;5;28;01mreturn\u001b[39;00m dists, inds\n",
      "File \u001b[0;32m~/miniconda3/envs/sc_mechinterp/lib/python3.9/site-packages/sklearn/neighbors/_base.py:763\u001b[0m, in \u001b[0;36mKNeighborsMixin.kneighbors\u001b[0;34m(self, X, n_neighbors, return_distance)\u001b[0m\n\u001b[1;32m    756\u001b[0m use_pairwise_distances_reductions \u001b[38;5;241m=\u001b[39m (\n\u001b[1;32m    757\u001b[0m     \u001b[38;5;28mself\u001b[39m\u001b[38;5;241m.\u001b[39m_fit_method \u001b[38;5;241m==\u001b[39m \u001b[38;5;124m\"\u001b[39m\u001b[38;5;124mbrute\u001b[39m\u001b[38;5;124m\"\u001b[39m\n\u001b[1;32m    758\u001b[0m     \u001b[38;5;129;01mand\u001b[39;00m PairwiseDistancesArgKmin\u001b[38;5;241m.\u001b[39mis_usable_for(\n\u001b[1;32m    759\u001b[0m         X \u001b[38;5;28;01mif\u001b[39;00m X \u001b[38;5;129;01mis\u001b[39;00m \u001b[38;5;129;01mnot\u001b[39;00m \u001b[38;5;28;01mNone\u001b[39;00m \u001b[38;5;28;01melse\u001b[39;00m \u001b[38;5;28mself\u001b[39m\u001b[38;5;241m.\u001b[39m_fit_X, \u001b[38;5;28mself\u001b[39m\u001b[38;5;241m.\u001b[39m_fit_X, \u001b[38;5;28mself\u001b[39m\u001b[38;5;241m.\u001b[39meffective_metric_\n\u001b[1;32m    760\u001b[0m     )\n\u001b[1;32m    761\u001b[0m )\n\u001b[1;32m    762\u001b[0m \u001b[38;5;28;01mif\u001b[39;00m use_pairwise_distances_reductions:\n\u001b[0;32m--> 763\u001b[0m     results \u001b[38;5;241m=\u001b[39m \u001b[43mPairwiseDistancesArgKmin\u001b[49m\u001b[38;5;241;43m.\u001b[39;49m\u001b[43mcompute\u001b[49m\u001b[43m(\u001b[49m\n\u001b[1;32m    764\u001b[0m \u001b[43m        \u001b[49m\u001b[43mX\u001b[49m\u001b[38;5;241;43m=\u001b[39;49m\u001b[43mX\u001b[49m\u001b[43m,\u001b[49m\n\u001b[1;32m    765\u001b[0m \u001b[43m        \u001b[49m\u001b[43mY\u001b[49m\u001b[38;5;241;43m=\u001b[39;49m\u001b[38;5;28;43mself\u001b[39;49m\u001b[38;5;241;43m.\u001b[39;49m\u001b[43m_fit_X\u001b[49m\u001b[43m,\u001b[49m\n\u001b[1;32m    766\u001b[0m \u001b[43m        \u001b[49m\u001b[43mk\u001b[49m\u001b[38;5;241;43m=\u001b[39;49m\u001b[43mn_neighbors\u001b[49m\u001b[43m,\u001b[49m\n\u001b[1;32m    767\u001b[0m \u001b[43m        \u001b[49m\u001b[43mmetric\u001b[49m\u001b[38;5;241;43m=\u001b[39;49m\u001b[38;5;28;43mself\u001b[39;49m\u001b[38;5;241;43m.\u001b[39;49m\u001b[43meffective_metric_\u001b[49m\u001b[43m,\u001b[49m\n\u001b[1;32m    768\u001b[0m \u001b[43m        \u001b[49m\u001b[43mmetric_kwargs\u001b[49m\u001b[38;5;241;43m=\u001b[39;49m\u001b[38;5;28;43mself\u001b[39;49m\u001b[38;5;241;43m.\u001b[39;49m\u001b[43meffective_metric_params_\u001b[49m\u001b[43m,\u001b[49m\n\u001b[1;32m    769\u001b[0m \u001b[43m        \u001b[49m\u001b[43mstrategy\u001b[49m\u001b[38;5;241;43m=\u001b[39;49m\u001b[38;5;124;43m\"\u001b[39;49m\u001b[38;5;124;43mauto\u001b[39;49m\u001b[38;5;124;43m\"\u001b[39;49m\u001b[43m,\u001b[49m\n\u001b[1;32m    770\u001b[0m \u001b[43m        \u001b[49m\u001b[43mreturn_distance\u001b[49m\u001b[38;5;241;43m=\u001b[39;49m\u001b[43mreturn_distance\u001b[49m\u001b[43m,\u001b[49m\n\u001b[1;32m    771\u001b[0m \u001b[43m    \u001b[49m\u001b[43m)\u001b[49m\n\u001b[1;32m    773\u001b[0m \u001b[38;5;28;01melif\u001b[39;00m (\n\u001b[1;32m    774\u001b[0m     \u001b[38;5;28mself\u001b[39m\u001b[38;5;241m.\u001b[39m_fit_method \u001b[38;5;241m==\u001b[39m \u001b[38;5;124m\"\u001b[39m\u001b[38;5;124mbrute\u001b[39m\u001b[38;5;124m\"\u001b[39m \u001b[38;5;129;01mand\u001b[39;00m \u001b[38;5;28mself\u001b[39m\u001b[38;5;241m.\u001b[39mmetric \u001b[38;5;241m==\u001b[39m \u001b[38;5;124m\"\u001b[39m\u001b[38;5;124mprecomputed\u001b[39m\u001b[38;5;124m\"\u001b[39m \u001b[38;5;129;01mand\u001b[39;00m issparse(X)\n\u001b[1;32m    775\u001b[0m ):\n\u001b[1;32m    776\u001b[0m     results \u001b[38;5;241m=\u001b[39m _kneighbors_from_graph(\n\u001b[1;32m    777\u001b[0m         X, n_neighbors\u001b[38;5;241m=\u001b[39mn_neighbors, return_distance\u001b[38;5;241m=\u001b[39mreturn_distance\n\u001b[1;32m    778\u001b[0m     )\n",
      "File \u001b[0;32msklearn/metrics/_pairwise_distances_reduction.pyx:698\u001b[0m, in \u001b[0;36msklearn.metrics._pairwise_distances_reduction.PairwiseDistancesArgKmin.compute\u001b[0;34m()\u001b[0m\n",
      "File \u001b[0;32m~/miniconda3/envs/sc_mechinterp/lib/python3.9/site-packages/threadpoolctl.py:592\u001b[0m, in \u001b[0;36m_ThreadpoolLimiter.__exit__\u001b[0;34m(self, type, value, traceback)\u001b[0m\n\u001b[1;32m    589\u001b[0m \u001b[38;5;28;01mdef\u001b[39;00m \u001b[38;5;21m__enter__\u001b[39m(\u001b[38;5;28mself\u001b[39m):\n\u001b[1;32m    590\u001b[0m     \u001b[38;5;28;01mreturn\u001b[39;00m \u001b[38;5;28mself\u001b[39m\n\u001b[0;32m--> 592\u001b[0m \u001b[38;5;28;01mdef\u001b[39;00m \u001b[38;5;21m__exit__\u001b[39m(\u001b[38;5;28mself\u001b[39m, \u001b[38;5;28mtype\u001b[39m, value, traceback):\n\u001b[1;32m    593\u001b[0m     \u001b[38;5;28mself\u001b[39m\u001b[38;5;241m.\u001b[39mrestore_original_limits()\n\u001b[1;32m    595\u001b[0m \u001b[38;5;129m@classmethod\u001b[39m\n\u001b[1;32m    596\u001b[0m \u001b[38;5;28;01mdef\u001b[39;00m \u001b[38;5;21mwrap\u001b[39m(\u001b[38;5;28mcls\u001b[39m, controller, \u001b[38;5;241m*\u001b[39m, limits\u001b[38;5;241m=\u001b[39m\u001b[38;5;28;01mNone\u001b[39;00m, user_api\u001b[38;5;241m=\u001b[39m\u001b[38;5;28;01mNone\u001b[39;00m):\n",
      "\u001b[0;31mKeyboardInterrupt\u001b[0m: "
     ]
    }
   ],
   "source": [
    "start_time = time.time()\n",
    "\n",
    "pca_dim = skdim.id.DANCo().fit(rna_counts).dimension_\n",
    "\n",
    "end_time = time.time()\n",
    "print(\"Execution time: {} minutes\".format((end_time - start_time)/60))\n",
    "print(\"Estimated intrinsic dimension: {}\".format(pca_dim))"
   ]
  },
  {
   "cell_type": "code",
   "execution_count": 5,
   "metadata": {},
   "outputs": [
    {
     "name": "stdout",
     "output_type": "stream",
     "text": [
      "Execution time: 717.8618870417278 minutes\n",
      "Estimated intrinsic dimension: 23.69489582578049\n"
     ]
    }
   ],
   "source": [
    "start_time = time.time()\n",
    "\n",
    "pca_dim = skdim.id.ESS().fit(rna_counts).dimension_\n",
    "\n",
    "end_time = time.time()\n",
    "print(\"Execution time: {} minutes\".format((end_time - start_time)/60))\n",
    "print(\"Estimated intrinsic dimension: {}\".format(pca_dim))"
   ]
  },
  {
   "cell_type": "code",
   "execution_count": 6,
   "metadata": {},
   "outputs": [
    {
     "name": "stdout",
     "output_type": "stream",
     "text": [
      "Execution time: 22.988013195991517 minutes\n",
      "Estimated intrinsic dimension: 4.224413382055472\n"
     ]
    }
   ],
   "source": [
    "start_time = time.time()\n",
    "\n",
    "pca_dim = skdim.id.FisherS().fit(rna_counts).dimension_\n",
    "\n",
    "end_time = time.time()\n",
    "print(\"Execution time: {} minutes\".format((end_time - start_time)/60))\n",
    "print(\"Estimated intrinsic dimension: {}\".format(pca_dim))"
   ]
  },
  {
   "cell_type": "code",
   "execution_count": 7,
   "metadata": {},
   "outputs": [
    {
     "name": "stdout",
     "output_type": "stream",
     "text": [
      "Execution time: 375.78503791888556 minutes\n",
      "Estimated intrinsic dimension: 4\n"
     ]
    }
   ],
   "source": [
    "start_time = time.time()\n",
    "\n",
    "pca_dim = skdim.id.KNN().fit(rna_counts).dimension_\n",
    "\n",
    "end_time = time.time()\n",
    "print(\"Execution time: {} minutes\".format((end_time - start_time)/60))\n",
    "print(\"Estimated intrinsic dimension: {}\".format(pca_dim))"
   ]
  },
  {
   "cell_type": "code",
   "execution_count": null,
   "metadata": {},
   "outputs": [],
   "source": [
    "start_time = time.time()\n",
    "\n",
    "pca_dim = skdim.id.MADA().fit(rna_counts).dimension_\n",
    "\n",
    "end_time = time.time()\n",
    "print(\"Execution time: {} minutes\".format((end_time - start_time)/60))\n",
    "print(\"Estimated intrinsic dimension: {}\".format(pca_dim))"
   ]
  },
  {
   "cell_type": "code",
   "execution_count": 5,
   "metadata": {},
   "outputs": [
    {
     "name": "stdout",
     "output_type": "stream",
     "text": [
      "Execution time: 19.20188210407893 minutes\n",
      "Estimated intrinsic dimension: 10.0\n"
     ]
    }
   ],
   "source": [
    "start_time = time.time()\n",
    "\n",
    "pca_dim = skdim.id.MiND_ML().fit(rna_counts).dimension_\n",
    "\n",
    "end_time = time.time()\n",
    "print(\"Execution time: {} minutes\".format((end_time - start_time)/60))\n",
    "print(\"Estimated intrinsic dimension: {}\".format(pca_dim))"
   ]
  },
  {
   "cell_type": "code",
   "execution_count": null,
   "metadata": {},
   "outputs": [],
   "source": [
    "start_time = time.time()\n",
    "\n",
    "pca_dim = skdim.id.MiND_ML(k=1).fit(rna_counts).dimension_\n",
    "\n",
    "end_time = time.time()\n",
    "print(\"Execution time: {} minutes\".format((end_time - start_time)/60))\n",
    "print(\"Estimated intrinsic dimension: {}\".format(pca_dim))"
   ]
  },
  {
   "cell_type": "code",
   "execution_count": 8,
   "metadata": {},
   "outputs": [
    {
     "name": "stdout",
     "output_type": "stream",
     "text": [
      "Execution time: 10.88337740500768 minutes\n",
      "Estimated intrinsic dimension: 17.184770343571504\n"
     ]
    }
   ],
   "source": [
    "start_time = time.time()\n",
    "\n",
    "pca_dim = skdim.id.MLE().fit(rna_counts).dimension_\n",
    "\n",
    "end_time = time.time()\n",
    "print(\"Execution time: {} minutes\".format((end_time - start_time)/60))\n",
    "print(\"Estimated intrinsic dimension: {}\".format(pca_dim))"
   ]
  },
  {
   "cell_type": "code",
   "execution_count": 6,
   "metadata": {},
   "outputs": [
    {
     "name": "stdout",
     "output_type": "stream",
     "text": [
      "Execution time: 16.73483256896337 minutes\n",
      "Estimated intrinsic dimension: 14.627227783203125\n"
     ]
    }
   ],
   "source": [
    "start_time = time.time()\n",
    "\n",
    "pca_dim = skdim.id.MOM().fit(rna_counts).dimension_\n",
    "\n",
    "end_time = time.time()\n",
    "print(\"Execution time: {} minutes\".format((end_time - start_time)/60))\n",
    "print(\"Estimated intrinsic dimension: {}\".format(pca_dim))"
   ]
  },
  {
   "cell_type": "code",
   "execution_count": 10,
   "metadata": {},
   "outputs": [
    {
     "name": "stdout",
     "output_type": "stream",
     "text": [
      "Execution time: 13.199073986212413 minutes\n",
      "Estimated intrinsic dimension: 17.092620510011752\n"
     ]
    }
   ],
   "source": [
    "start_time = time.time()\n",
    "\n",
    "pca_dim = skdim.id.TLE().fit(rna_counts).dimension_\n",
    "\n",
    "end_time = time.time()\n",
    "print(\"Execution time: {} minutes\".format((end_time - start_time)/60))\n",
    "print(\"Estimated intrinsic dimension: {}\".format(pca_dim))"
   ]
  },
  {
   "cell_type": "code",
   "execution_count": 9,
   "metadata": {},
   "outputs": [
    {
     "name": "stdout",
     "output_type": "stream",
     "text": [
      "Execution time: 17.442480047543842 minutes\n",
      "Estimated intrinsic dimension: 20.043295577881235\n"
     ]
    }
   ],
   "source": [
    "start_time = time.time()\n",
    "\n",
    "pca_dim = skdim.id.TwoNN().fit(rna_counts).dimension_\n",
    "\n",
    "end_time = time.time()\n",
    "print(\"Execution time: {} minutes\".format((end_time - start_time)/60))\n",
    "print(\"Estimated intrinsic dimension: {}\".format(pca_dim))"
   ]
  },
  {
   "cell_type": "markdown",
   "metadata": {},
   "source": [
    "## 2010s (medium level)"
   ]
  },
  {
   "cell_type": "markdown",
   "metadata": {},
   "source": [
    "### ClusterDimension"
   ]
  },
  {
   "cell_type": "code",
   "execution_count": null,
   "metadata": {},
   "outputs": [],
   "source": [
    "# again use the norms for pairwise distances as a start\n",
    "# next compute the minimum-linkage agglomerative clustering to get a hierarchical clustering\n",
    "\n",
    "from sklearn.cluster import AgglomerativeClustering\n",
    "\n",
    "start_time = time.time()\n",
    "\n",
    "clustering = AgglomerativeClustering(n_clusters=None, distance_threshold=0, linkage='single').fit(norms)"
   ]
  },
  {
   "cell_type": "code",
   "execution_count": null,
   "metadata": {},
   "outputs": [],
   "source": [
    "print(\"N clusters: \".format(clustering.n_clusters_))\n",
    "print(\"N leaves: \".format(clustering.n_leaves_))\n",
    "print(\"N connected components: \".format(clustering.n_connected_components_))\n",
    "print(\"Children: \".format(clustering.children_))\n",
    "print(\"Distances: \".format(clustering.distances_))"
   ]
  },
  {
   "cell_type": "markdown",
   "metadata": {},
   "source": [
    "## 2020s (state of the art)"
   ]
  },
  {
   "cell_type": "markdown",
   "metadata": {},
   "source": [
    "### Wasserstein distance"
   ]
  },
  {
   "cell_type": "code",
   "execution_count": 7,
   "metadata": {},
   "outputs": [
    {
     "name": "stdout",
     "output_type": "stream",
     "text": [
      "alpha: 2, n: 15000.0\n",
      "Execution time: 0.0010131120681762696 minutes\n",
      "Estimated intrinsic dimension: -210.07931191439383\n"
     ]
    }
   ],
   "source": [
    "# version 1: euclidean distance\n",
    "\n",
    "alpha = 2\n",
    "n = (rna_counts.shape[0] / 2) / (alpha + 1)\n",
    "print(\"alpha: {}, n: {}\".format(alpha, n))\n",
    "\n",
    "# first draw 4 random sets\n",
    "available_indices = np.arange(rna_counts.shape[0])\n",
    "n_1_indices = np.random.choice(available_indices, int(n), replace=False)\n",
    "available_indices = list(set(available_indices) - set(n_1_indices))\n",
    "n_2_indices = np.random.choice(available_indices, int(n), replace=False)\n",
    "available_indices = list(set(available_indices) - set(n_2_indices))\n",
    "an_1_indices = np.random.choice(available_indices, int(alpha*n), replace=False)\n",
    "available_indices = list(set(available_indices) - set(an_1_indices))\n",
    "an_2_indices = np.random.choice(available_indices, int(alpha*n), replace=False)\n",
    "\n",
    "device = torch.device('cuda' if torch.cuda.is_available() else 'cpu')\n",
    "rna_counts = rna_counts.to(device)\n",
    "\n",
    "# measure execution time\n",
    "import time\n",
    "start_time = time.time()\n",
    "\n",
    "w_dist_n = torch.mean(torch.norm(rna_counts[n_1_indices] - rna_counts[n_2_indices], dim=1)).item()\n",
    "w_dist_an = torch.mean(torch.norm(rna_counts[an_1_indices] - rna_counts[an_2_indices], dim=1)).item()\n",
    "\n",
    "d = math.log(alpha) / (math.log(w_dist_n) - math.log(w_dist_an))\n",
    "\n",
    "end_time = time.time()\n",
    "# return time in minutes\n",
    "print(\"Execution time: {} minutes\".format((end_time - start_time)/60))\n",
    "print(\"Estimated intrinsic dimension: {}\".format(d))"
   ]
  },
  {
   "cell_type": "code",
   "execution_count": 8,
   "metadata": {},
   "outputs": [
    {
     "name": "stdout",
     "output_type": "stream",
     "text": [
      "alpha: 100, n: 445.54455445544556\n",
      "Execution time: 0.004705997308095297 minutes\n",
      "Estimated intrinsic dimension: 7922.260759737396\n"
     ]
    }
   ],
   "source": [
    "# version 1: euclidean distance\n",
    "\n",
    "alpha = 100\n",
    "n = (rna_counts.shape[0] / 2) / (alpha + 1)\n",
    "print(\"alpha: {}, n: {}\".format(alpha, n))\n",
    "\n",
    "# first draw 4 random sets\n",
    "available_indices = np.arange(rna_counts.shape[0])\n",
    "n_1_indices = np.random.choice(available_indices, int(n), replace=False)\n",
    "available_indices = list(set(available_indices) - set(n_1_indices))\n",
    "n_2_indices = np.random.choice(available_indices, int(n), replace=False)\n",
    "available_indices = list(set(available_indices) - set(n_2_indices))\n",
    "an_1_indices = np.random.choice(available_indices, int(alpha*n), replace=False)\n",
    "available_indices = list(set(available_indices) - set(an_1_indices))\n",
    "an_2_indices = np.random.choice(available_indices, int(alpha*n), replace=False)\n",
    "\n",
    "device = torch.device('cuda' if torch.cuda.is_available() else 'cpu')\n",
    "rna_counts = rna_counts.to(device)\n",
    "\n",
    "# measure execution time\n",
    "import time\n",
    "start_time = time.time()\n",
    "\n",
    "w_dist_n = torch.mean(torch.norm(rna_counts[n_1_indices] - rna_counts[n_2_indices], dim=1)).item()\n",
    "w_dist_an = torch.mean(torch.norm(rna_counts[an_1_indices] - rna_counts[an_2_indices], dim=1)).item()\n",
    "\n",
    "d = math.log(alpha) / (math.log(w_dist_n) - math.log(w_dist_an))\n",
    "\n",
    "end_time = time.time()\n",
    "# return time in minutes\n",
    "print(\"Execution time: {} minutes\".format((end_time - start_time)/60))\n",
    "print(\"Estimated intrinsic dimension: {}\".format(d))"
   ]
  },
  {
   "cell_type": "code",
   "execution_count": 9,
   "metadata": {},
   "outputs": [],
   "source": [
    "# version 1: euclidean distance\n",
    "ds = []\n",
    "\n",
    "for alpha in range(2,101):\n",
    "    n = (rna_counts.shape[0] / 2) / (alpha + 1)\n",
    "\n",
    "    # first draw 4 random sets\n",
    "    available_indices = np.arange(rna_counts.shape[0])\n",
    "    n_1_indices = np.random.choice(available_indices, int(n), replace=False)\n",
    "    available_indices = list(set(available_indices) - set(n_1_indices))\n",
    "    n_2_indices = np.random.choice(available_indices, int(n), replace=False)\n",
    "    available_indices = list(set(available_indices) - set(n_2_indices))\n",
    "    an_1_indices = np.random.choice(available_indices, int(alpha*n), replace=False)\n",
    "    available_indices = list(set(available_indices) - set(an_1_indices))\n",
    "    an_2_indices = np.random.choice(available_indices, int(alpha*n), replace=False)\n",
    "\n",
    "    device = torch.device('cuda' if torch.cuda.is_available() else 'cpu')\n",
    "    rna_counts = rna_counts.to(device)\n",
    "\n",
    "    # measure execution time\n",
    "    #import time\n",
    "    #start_time = time.time()\n",
    "\n",
    "    w_dist_n = torch.mean(torch.norm(rna_counts[n_1_indices] - rna_counts[n_2_indices], dim=1)).item()\n",
    "    w_dist_an = torch.mean(torch.norm(rna_counts[an_1_indices] - rna_counts[an_2_indices], dim=1)).item()\n",
    "\n",
    "    d = math.log(alpha) / (math.log(w_dist_n) - math.log(w_dist_an))\n",
    "\n",
    "    #end_time = time.time()\n",
    "    ds.append(d)"
   ]
  },
  {
   "cell_type": "code",
   "execution_count": 10,
   "metadata": {},
   "outputs": [
    {
     "data": {
      "image/png": "[encoded data removed]",
      "text/plain": [
       "<Figure size 500x300 with 1 Axes>"
      ]
     },
     "metadata": {},
     "output_type": "display_data"
    }
   ],
   "source": [
    "# plot ds against alphas\n",
    "fig, ax = plt.subplots(figsize=(5, 3))\n",
    "plt.plot(range(2,101), ds)\n",
    "plt.xlabel('alpha')\n",
    "plt.ylabel('d')\n",
    "plt.show()"
   ]
  },
  {
   "cell_type": "markdown",
   "metadata": {},
   "source": [
    "## Empirical estimation"
   ]
  },
  {
   "cell_type": "code",
   "execution_count": 3,
   "metadata": {},
   "outputs": [],
   "source": [
    "import torch.nn as nn\n",
    "import torch\n",
    "import tqdm\n",
    "import gc\n",
    "\n",
    "device = torch.device('cuda' if torch.cuda.is_available() else 'cpu')\n",
    "\n",
    "# I will try with running an overcomplete autoencoder with varying latent dimensions\n",
    "\n",
    "class OvercompleteAE(torch.nn.Module):\n",
    "    def __init__(self, input_dim, latent_dim):\n",
    "        super(OvercompleteAE, self).__init__()\n",
    "\n",
    "        self.encoder = torch.nn.Sequential(\n",
    "            torch.nn.Linear(input_dim, int(0.5*input_dim)),\n",
    "            torch.nn.ReLU(),\n",
    "            torch.nn.Linear(int(0.5*input_dim), latent_dim)\n",
    "        )\n",
    "        self.decoder = torch.nn.Sequential(\n",
    "            torch.nn.Linear(latent_dim, int(0.5*input_dim)),\n",
    "            torch.nn.ReLU(),\n",
    "            torch.nn.Linear(int(0.5*input_dim), input_dim)\n",
    "        )\n",
    "\n",
    "    def forward(self, x):\n",
    "        x = self.encoder(x)\n",
    "        x = self.decoder(x)\n",
    "        return x\n",
    "\n",
    "def parallel_linear_regression(x, y, n_samples, n_samples_train, n_epochs=100, early_stopping=10):\n",
    "    import tqdm\n",
    "    y_mean = y[n_samples_train:n_samples].mean(dim=0)\n",
    "\n",
    "    # loaders\n",
    "    train_loader = torch.utils.data.DataLoader(torch.utils.data.TensorDataset(x[:n_samples_train], y[:n_samples_train]), batch_size=128, shuffle=True)\n",
    "    val_loader = torch.utils.data.DataLoader(torch.utils.data.TensorDataset(x[n_samples_train:n_samples], y[n_samples_train:n_samples]), batch_size=128, shuffle=False)\n",
    "\n",
    "    # set up a linear layer to use for parallel regression\n",
    "    linear = nn.Linear(x.shape[1], y.shape[1]).to(device)\n",
    "    optimizer = torch.optim.Adam(linear.parameters(), lr=0.0001, weight_decay=0)\n",
    "    loss_fn = nn.MSELoss()\n",
    "\n",
    "    # train the linear layer\n",
    "    val_losses = []\n",
    "    pbar = tqdm.tqdm(range(n_epochs))\n",
    "    for epoch in pbar:\n",
    "        for x_batch, y_batch in train_loader:\n",
    "            x_batch, y_batch = x_batch.to(device), y_batch.to(device)\n",
    "            optimizer.zero_grad()\n",
    "            y_pred = linear(x_batch)\n",
    "            loss = loss_fn(y_pred, y_batch)\n",
    "            loss.backward()\n",
    "            optimizer.step()\n",
    "        val_loss = 0\n",
    "        for x_val, y_val in val_loader:\n",
    "            x_val, y_val = x_val.to(device), y_val.to(device)\n",
    "            y_pred = linear(x_val)\n",
    "            val_loss += loss_fn(y_pred, y_val).item()\n",
    "        val_losses.append(val_loss / len(val_loader))\n",
    "        if epoch > early_stopping and min(val_losses[-early_stopping:]) > min(val_losses):\n",
    "            print(\"Early stopping in linear regression at epoch \", epoch)\n",
    "            break\n",
    "        #pbar.set_postfix({'val loss': round(val_loss / len(val_loader), 4)})\n",
    "    \n",
    "    y_pred = linear(x[n_samples_train:n_samples].to(device)).cpu()\n",
    "    y_pred = y_pred.detach()\n",
    "    r_squares = 1 - (((y[n_samples_train:n_samples] - y_pred)**2).sum(0) / ((y[n_samples_train:n_samples] - y_mean)**2).sum(0))\n",
    "    return r_squares\n",
    "\n",
    "def train_overcomplete_ae(data, n_samples_train, latent_dim, epochs=100, early_stopping=10, lr=0.001):\n",
    "    # set the random seed\n",
    "    torch.manual_seed(0)\n",
    "\n",
    "    # set the device\n",
    "    device = torch.device('cuda' if torch.cuda.is_available() else 'cpu')\n",
    "\n",
    "    # create the model\n",
    "    model = OvercompleteAE(data.shape[1], latent_dim).to(device)\n",
    "\n",
    "    # create the optimizer\n",
    "    optimizer = torch.optim.Adam(model.parameters(), lr=lr)\n",
    "\n",
    "    # create the loss function\n",
    "    loss_fn = torch.nn.MSELoss()\n",
    "\n",
    "    # create the data loader\n",
    "    data_loader = torch.utils.data.DataLoader(data[:n_samples_train], batch_size=128, shuffle=True)\n",
    "    val_loader = torch.utils.data.DataLoader(data[n_samples_train:], batch_size=128, shuffle=False)\n",
    "\n",
    "    # train the model\n",
    "    train_losses = []\n",
    "    #val_losses = []\n",
    "    pbar = tqdm.tqdm(range(epochs))\n",
    "    for epoch in pbar:\n",
    "        train_losses.append(0)\n",
    "        for x in data_loader:\n",
    "            x = x.to(device)\n",
    "            # forward pass\n",
    "            x_hat = model(x)\n",
    "            # compute the loss\n",
    "            loss = loss_fn(x_hat, x)\n",
    "            # zero the gradients\n",
    "            optimizer.zero_grad()\n",
    "            # backward pass\n",
    "            loss.backward()\n",
    "            # update the weights\n",
    "            optimizer.step()\n",
    "            train_losses[-1] += loss.item()\n",
    "        train_losses[-1] /= len(data_loader)\n",
    "        pbar.set_postfix({'loss': round(train_losses[-1], 4)})\n",
    "        \n",
    "        # compute the validation loss\n",
    "        #val_losses.append(0)\n",
    "        #for x in val_loader:\n",
    "        #    x = x.to(device)\n",
    "        #    x_hat = model(x)\n",
    "        #    val_losses[-1] += loss_fn(x_hat, x).item()\n",
    "        #val_losses[-1] /= len(val_loader)\n",
    "\n",
    "        #if epoch > early_stopping and min(val_losses[-early_stopping:]) > min(val_losses):\n",
    "        #    break\n",
    "    # empty cache\n",
    "    torch.cuda.empty_cache()\n",
    "    gc.collect()\n",
    "\n",
    "    # calculate the superpositions of the data in the latent space\n",
    "    reps = model.encoder(data[:n_samples_train].to(device)).cpu().detach()\n",
    "    r_squares = parallel_linear_regression(reps, data[:n_samples_train], n_samples_train, int(n_samples_train*0.9), n_epochs=100, early_stopping=10)\n",
    "    # remove all nan and inf values\n",
    "    r_squares = r_squares[torch.isfinite(r_squares)]\n",
    "\n",
    "    return np.mean(train_losses[-5:]), r_squares.mean().item()"
   ]
  },
  {
   "cell_type": "code",
   "execution_count": 4,
   "metadata": {},
   "outputs": [
    {
     "name": "stderr",
     "output_type": "stream",
     "text": [
      "100%|██████████| 50/50 [11:48<00:00, 14.17s/it, loss=0.231]\n",
      "100%|██████████| 100/100 [01:29<00:00,  1.12it/s]\n"
     ]
    },
    {
     "name": "stdout",
     "output_type": "stream",
     "text": [
      "Latent dim: 1000, train loss: 0.2662339781274162, r_square: 0.9993726015090942\n"
     ]
    },
    {
     "name": "stderr",
     "output_type": "stream",
     "text": [
      "100%|██████████| 50/50 [11:03<00:00, 13.27s/it, loss=4.12]\n",
      "100%|██████████| 100/100 [01:14<00:00,  1.35it/s]\n"
     ]
    },
    {
     "name": "stdout",
     "output_type": "stream",
     "text": [
      "Latent dim: 20, train loss: 4.239694313980392, r_square: 0.6148912310600281\n"
     ]
    }
   ],
   "source": [
    "data_fraction = 0.3\n",
    "\n",
    "latent_min = 20\n",
    "latent_max = 1000\n",
    "latent_dims = [latent_min, latent_max]\n",
    "\n",
    "# first get metrics for the min and max latent dimensions\n",
    "train_losses_max, r_squares_max = train_overcomplete_ae(rna_counts, int(n_samples_train*data_fraction), latent_max, epochs=50, lr=0.0001)\n",
    "print(\"Latent dim: {}, train loss: {}, r_square: {}\".format(latent_max, train_losses_max, r_squares_max))\n",
    "train_losses_min, r_squares_min = train_overcomplete_ae(rna_counts, int(n_samples_train*data_fraction), latent_min, epochs=50, lr=0.0001)\n",
    "print(\"Latent dim: {}, train loss: {}, r_square: {}\".format(latent_min, train_losses_min, r_squares_min))\n",
    "losses = [train_losses_min, train_losses_max]\n",
    "r_squares = [r_squares_min, r_squares_max]"
   ]
  },
  {
   "cell_type": "code",
   "execution_count": 8,
   "metadata": {},
   "outputs": [
    {
     "name": "stdout",
     "output_type": "stream",
     "text": [
      "Next latent dimension:  510\n"
     ]
    },
    {
     "name": "stderr",
     "output_type": "stream",
     "text": [
      "100%|██████████| 50/50 [11:21<00:00, 13.62s/it, loss=0.232]\n",
      "100%|██████████| 100/100 [01:15<00:00,  1.32it/s]\n"
     ]
    },
    {
     "name": "stdout",
     "output_type": "stream",
     "text": [
      "Latent dim: 510, train loss: 0.2508564626930449, r_square: 0.9989874362945557\n",
      "Next latent dimension:  265\n"
     ]
    },
    {
     "name": "stderr",
     "output_type": "stream",
     "text": [
      "100%|██████████| 50/50 [11:14<00:00, 13.50s/it, loss=0.284]\n",
      "100%|██████████| 100/100 [01:18<00:00,  1.28it/s]\n"
     ]
    },
    {
     "name": "stdout",
     "output_type": "stream",
     "text": [
      "Latent dim: 265, train loss: 0.29890611663248867, r_square: 0.9989351034164429\n",
      "Next latent dimension:  142\n"
     ]
    },
    {
     "name": "stderr",
     "output_type": "stream",
     "text": [
      "100%|██████████| 50/50 [11:10<00:00, 13.41s/it, loss=0.319]\n",
      "100%|██████████| 100/100 [01:16<00:00,  1.31it/s]\n"
     ]
    },
    {
     "name": "stdout",
     "output_type": "stream",
     "text": [
      "Latent dim: 142, train loss: 0.3164930015378654, r_square: 0.9990155696868896\n",
      "Next latent dimension:  81\n"
     ]
    },
    {
     "name": "stderr",
     "output_type": "stream",
     "text": [
      "100%|██████████| 50/50 [11:07<00:00, 13.35s/it, loss=0.305]\n",
      "100%|██████████| 100/100 [01:16<00:00,  1.31it/s]\n"
     ]
    },
    {
     "name": "stdout",
     "output_type": "stream",
     "text": [
      "Latent dim: 81, train loss: 0.3225435485207074, r_square: 0.9774366617202759\n",
      "Next latent dimension:  50\n"
     ]
    },
    {
     "name": "stderr",
     "output_type": "stream",
     "text": [
      "100%|██████████| 50/50 [11:04<00:00, 13.29s/it, loss=0.649]\n",
      "100%|██████████| 100/100 [01:09<00:00,  1.45it/s]\n"
     ]
    },
    {
     "name": "stdout",
     "output_type": "stream",
     "text": [
      "Latent dim: 50, train loss: 0.6997293575115113, r_square: 0.9241017699241638\n"
     ]
    }
   ],
   "source": [
    "# we employ a search for the optimal latent dimension by looking at when loss increases and r_squares decrease\n",
    "steps = 5\n",
    "\n",
    "while steps > 0:\n",
    "    next_latent = int((latent_min + latent_max) / 2)\n",
    "    print(\"Next latent dimension: \", next_latent)\n",
    "    train_losses_temp, r_squares_temp = train_overcomplete_ae(rna_counts, int(n_samples_train*data_fraction), next_latent, epochs=50, lr=0.0001)\n",
    "    latent_dims.append(next_latent)\n",
    "    losses.append(train_losses_temp)\n",
    "    r_squares.append(r_squares_temp)\n",
    "    print(\"Latent dim: {}, train loss: {}, r_square: {}\".format(next_latent, train_losses_temp, r_squares_temp))\n",
    "    loss_diffs = [np.abs(train_losses_temp - train_losses_min), np.abs(train_losses_temp - train_losses_max)]\n",
    "    r_square_diffs = [np.abs(r_squares_temp - r_squares_min), np.abs(r_squares_temp - r_squares_max)]\n",
    "    if loss_diffs[0] < loss_diffs[1] and r_square_diffs[0] < r_square_diffs[1]:\n",
    "        latent_min = next_latent\n",
    "        train_losses_min = train_losses_temp\n",
    "        r_squares_min = r_squares_temp\n",
    "    elif loss_diffs[0] > loss_diffs[1] and r_square_diffs[0] > r_square_diffs[1]:\n",
    "        latent_max = next_latent\n",
    "        train_losses_max = train_losses_temp\n",
    "        r_squares_max = r_squares_temp\n",
    "    else:\n",
    "        print(\"   results not consistent\")\n",
    "        if r_square_diffs[0] < r_square_diffs[1]:\n",
    "            latent_min = next_latent\n",
    "            train_losses_min = train_losses_temp\n",
    "            r_squares_min = r_squares_temp\n",
    "        else:\n",
    "            latent_max = next_latent\n",
    "            train_losses_max = train_losses_temp\n",
    "            r_squares_max = r_squares_temp\n",
    "    steps -= 1"
   ]
  },
  {
   "cell_type": "code",
   "execution_count": 9,
   "metadata": {},
   "outputs": [
    {
     "name": "stdout",
     "output_type": "stream",
     "text": [
      "Next latent dimension:  111\n"
     ]
    },
    {
     "name": "stderr",
     "output_type": "stream",
     "text": [
      "100%|██████████| 50/50 [11:06<00:00, 13.33s/it, loss=0.288]\n",
      "100%|██████████| 100/100 [01:17<00:00,  1.28it/s]\n"
     ]
    },
    {
     "name": "stdout",
     "output_type": "stream",
     "text": [
      "Latent dim: 111, train loss: 0.2945102153231183, r_square: 0.9993739128112793\n"
     ]
    }
   ],
   "source": [
    "next_latent = int((142 + 81) / 2)\n",
    "print(\"Next latent dimension: \", next_latent)\n",
    "train_losses_temp, r_squares_temp = train_overcomplete_ae(rna_counts, int(n_samples_train*data_fraction), next_latent, epochs=50, lr=0.0001)\n",
    "latent_dims.append(next_latent)\n",
    "losses.append(train_losses_temp)\n",
    "r_squares.append(r_squares_temp)\n",
    "print(\"Latent dim: {}, train loss: {}, r_square: {}\".format(next_latent, train_losses_temp, r_squares_temp))"
   ]
  },
  {
   "cell_type": "code",
   "execution_count": 10,
   "metadata": {},
   "outputs": [
    {
     "name": "stdout",
     "output_type": "stream",
     "text": [
      "Next latent dimension:  126\n"
     ]
    },
    {
     "name": "stderr",
     "output_type": "stream",
     "text": [
      "100%|██████████| 50/50 [11:08<00:00, 13.38s/it, loss=0.279]\n",
      "100%|██████████| 100/100 [01:16<00:00,  1.30it/s]\n"
     ]
    },
    {
     "name": "stdout",
     "output_type": "stream",
     "text": [
      "Latent dim: 126, train loss: 0.3045046741222318, r_square: 0.9992056488990784\n"
     ]
    }
   ],
   "source": [
    "next_latent = int((142 + 111) / 2)\n",
    "print(\"Next latent dimension: \", next_latent)\n",
    "train_losses_temp, r_squares_temp = train_overcomplete_ae(rna_counts, int(n_samples_train*data_fraction), next_latent, epochs=50, lr=0.0001)\n",
    "latent_dims.append(next_latent)\n",
    "losses.append(train_losses_temp)\n",
    "r_squares.append(r_squares_temp)\n",
    "print(\"Latent dim: {}, train loss: {}, r_square: {}\".format(next_latent, train_losses_temp, r_squares_temp))"
   ]
  },
  {
   "cell_type": "code",
   "execution_count": 15,
   "metadata": {},
   "outputs": [
    {
     "name": "stdout",
     "output_type": "stream",
     "text": [
      "Next latent dimension:  96\n"
     ]
    },
    {
     "name": "stderr",
     "output_type": "stream",
     "text": [
      "100%|██████████| 50/50 [11:06<00:00, 13.32s/it, loss=0.268]\n",
      "100%|██████████| 100/100 [01:18<00:00,  1.28it/s]\n"
     ]
    },
    {
     "name": "stdout",
     "output_type": "stream",
     "text": [
      "Latent dim: 96, train loss: 0.28532323989822966, r_square: 0.9935515522956848\n"
     ]
    }
   ],
   "source": [
    "next_latent = int((111 + 81) / 2)\n",
    "print(\"Next latent dimension: \", next_latent)\n",
    "train_losses_temp, r_squares_temp = train_overcomplete_ae(rna_counts, int(n_samples_train*data_fraction), next_latent, epochs=50, lr=0.0001)\n",
    "latent_dims.append(next_latent)\n",
    "losses.append(train_losses_temp)\n",
    "r_squares.append(r_squares_temp)\n",
    "print(\"Latent dim: {}, train loss: {}, r_square: {}\".format(next_latent, train_losses_temp, r_squares_temp))"
   ]
  },
  {
   "cell_type": "code",
   "execution_count": 23,
   "metadata": {},
   "outputs": [
    {
     "name": "stdout",
     "output_type": "stream",
     "text": [
      "Next latent dimension:  103\n"
     ]
    },
    {
     "name": "stderr",
     "output_type": "stream",
     "text": [
      "100%|██████████| 50/50 [11:06<00:00, 13.34s/it, loss=0.285]\n",
      "100%|██████████| 100/100 [01:15<00:00,  1.33it/s]\n"
     ]
    },
    {
     "name": "stdout",
     "output_type": "stream",
     "text": [
      "Latent dim: 103, train loss: 0.2887132367957824, r_square: 0.9993582963943481\n"
     ]
    }
   ],
   "source": [
    "next_latent = int((111 + 96) / 2)\n",
    "print(\"Next latent dimension: \", next_latent)\n",
    "train_losses_temp, r_squares_temp = train_overcomplete_ae(rna_counts, int(n_samples_train*data_fraction), next_latent, epochs=50, lr=0.0001)\n",
    "latent_dims.append(next_latent)\n",
    "losses.append(train_losses_temp)\n",
    "r_squares.append(r_squares_temp)\n",
    "print(\"Latent dim: {}, train loss: {}, r_square: {}\".format(next_latent, train_losses_temp, r_squares_temp))"
   ]
  },
  {
   "cell_type": "markdown",
   "metadata": {},
   "source": [
    "stop when the space is covered +- 10% around the last latent dim that gives 1.0 R^2 (rounded to 2 decimals)"
   ]
  },
  {
   "cell_type": "code",
   "execution_count": 28,
   "metadata": {},
   "outputs": [
    {
     "data": {
      "image/png": "[encoded data removed]",
      "text/plain": [
       "<Figure size 1000x300 with 2 Axes>"
      ]
     },
     "metadata": {},
     "output_type": "display_data"
    }
   ],
   "source": [
    "# plot the losses and r_squares against latent dimensions\n",
    "plot_df = pd.DataFrame({'latent_dim': latent_dims, 'loss': losses, 'r_square': r_squares})\n",
    "\n",
    "best_latent = 103\n",
    "fig, ax = plt.subplots(1, 2, figsize=(10, 3))\n",
    "sns.scatterplot(data=plot_df, x='latent_dim', y='loss', ax=ax[0])\n",
    "# plot a line at latent_dim = 96\n",
    "ax[0].axvline(x=best_latent+2, color='r', linestyle='--')\n",
    "# add text\n",
    "ax[0].text(best_latent, 1, f\"d = {best_latent}\", color='r')\n",
    "ax[0].set_xlabel('Latent dimension')\n",
    "ax[0].set_ylabel('Train loss')\n",
    "ax[0].set_yscale('log')\n",
    "ax[0].set_xscale('log')\n",
    "sns.scatterplot(data=plot_df, x='latent_dim', y='r_square', ax=ax[1])\n",
    "ax[1].axvline(x=best_latent, color='r', linestyle='--')\n",
    "ax[1].text(best_latent+2, 0.8, f\"d = {best_latent}\", color='r')\n",
    "ax[1].set_xlabel('Latent dimension')\n",
    "ax[1].set_ylabel('R^2')\n",
    "ax[1].set_yscale('log')\n",
    "ax[1].set_xscale('log')\n",
    "plt.show()"
   ]
  },
  {
   "cell_type": "code",
   "execution_count": 29,
   "metadata": {},
   "outputs": [
    {
     "data": {
      "text/html": [
       "<div>\n",
       "<style scoped>\n",
       "    .dataframe tbody tr th:only-of-type {\n",
       "        vertical-align: middle;\n",
       "    }\n",
       "\n",
       "    .dataframe tbody tr th {\n",
       "        vertical-align: top;\n",
       "    }\n",
       "\n",
       "    .dataframe thead th {\n",
       "        text-align: right;\n",
       "    }\n",
       "</style>\n",
       "<table border=\"1\" class=\"dataframe\">\n",
       "  <thead>\n",
       "    <tr style=\"text-align: right;\">\n",
       "      <th></th>\n",
       "      <th>latent_dim</th>\n",
       "      <th>loss</th>\n",
       "      <th>r_square</th>\n",
       "    </tr>\n",
       "  </thead>\n",
       "  <tbody>\n",
       "    <tr>\n",
       "      <th>0</th>\n",
       "      <td>20</td>\n",
       "      <td>4.239694</td>\n",
       "      <td>0.614891</td>\n",
       "    </tr>\n",
       "    <tr>\n",
       "      <th>1</th>\n",
       "      <td>1000</td>\n",
       "      <td>0.266234</td>\n",
       "      <td>0.999373</td>\n",
       "    </tr>\n",
       "    <tr>\n",
       "      <th>2</th>\n",
       "      <td>510</td>\n",
       "      <td>0.250856</td>\n",
       "      <td>0.998987</td>\n",
       "    </tr>\n",
       "    <tr>\n",
       "      <th>3</th>\n",
       "      <td>265</td>\n",
       "      <td>0.298906</td>\n",
       "      <td>0.998935</td>\n",
       "    </tr>\n",
       "    <tr>\n",
       "      <th>4</th>\n",
       "      <td>142</td>\n",
       "      <td>0.316493</td>\n",
       "      <td>0.999016</td>\n",
       "    </tr>\n",
       "    <tr>\n",
       "      <th>5</th>\n",
       "      <td>81</td>\n",
       "      <td>0.322544</td>\n",
       "      <td>0.977437</td>\n",
       "    </tr>\n",
       "    <tr>\n",
       "      <th>6</th>\n",
       "      <td>50</td>\n",
       "      <td>0.699729</td>\n",
       "      <td>0.924102</td>\n",
       "    </tr>\n",
       "    <tr>\n",
       "      <th>7</th>\n",
       "      <td>111</td>\n",
       "      <td>0.294510</td>\n",
       "      <td>0.999374</td>\n",
       "    </tr>\n",
       "    <tr>\n",
       "      <th>8</th>\n",
       "      <td>126</td>\n",
       "      <td>0.304505</td>\n",
       "      <td>0.999206</td>\n",
       "    </tr>\n",
       "    <tr>\n",
       "      <th>9</th>\n",
       "      <td>96</td>\n",
       "      <td>0.285323</td>\n",
       "      <td>0.993552</td>\n",
       "    </tr>\n",
       "    <tr>\n",
       "      <th>10</th>\n",
       "      <td>103</td>\n",
       "      <td>0.288713</td>\n",
       "      <td>0.999358</td>\n",
       "    </tr>\n",
       "  </tbody>\n",
       "</table>\n",
       "</div>"
      ],
      "text/plain": [
       "    latent_dim      loss  r_square\n",
       "0           20  4.239694  0.614891\n",
       "1         1000  0.266234  0.999373\n",
       "2          510  0.250856  0.998987\n",
       "3          265  0.298906  0.998935\n",
       "4          142  0.316493  0.999016\n",
       "5           81  0.322544  0.977437\n",
       "6           50  0.699729  0.924102\n",
       "7          111  0.294510  0.999374\n",
       "8          126  0.304505  0.999206\n",
       "9           96  0.285323  0.993552\n",
       "10         103  0.288713  0.999358"
      ]
     },
     "execution_count": 29,
     "metadata": {},
     "output_type": "execute_result"
    }
   ],
   "source": [
    "plot_df"
   ]
  },
  {
   "cell_type": "markdown",
   "metadata": {},
   "source": [
    "## Other tests"
   ]
  },
  {
   "cell_type": "markdown",
   "metadata": {},
   "source": [
    "### distance batch svd"
   ]
  },
  {
   "cell_type": "code",
   "execution_count": null,
   "metadata": {},
   "outputs": [
    {
     "name": "stdout",
     "output_type": "stream",
     "text": [
      "Unique norm values:  4029\n"
     ]
    }
   ],
   "source": [
    "unique_norm_values = torch.triu(norms, diagonal=1).flatten().unique()\n",
    "# reduce the precision and call unique again\n",
    "unique_norm_values = unique_norm_values.to(torch.float16)\n",
    "unique_norm_values = unique_norm_values.unique()\n",
    "# back to double\n",
    "unique_norm_values = unique_norm_values.to(torch.float64)\n",
    "print(\"Unique norm values: \", len(unique_norm_values))"
   ]
  },
  {
   "cell_type": "code",
   "execution_count": 15,
   "metadata": {},
   "outputs": [
    {
     "name": "stdout",
     "output_type": "stream",
     "text": [
      "Threshold for 0.95-quantile: 3825.2\n"
     ]
    }
   ],
   "source": [
    "quantile = 0.95\n",
    "norms_threshold = torch.quantile(unique_norm_values, quantile).item()\n",
    "print(\"Threshold for {}-quantile: {}\".format(quantile, norms_threshold))"
   ]
  },
  {
   "cell_type": "code",
   "execution_count": 19,
   "metadata": {},
   "outputs": [
    {
     "name": "stdout",
     "output_type": "stream",
     "text": [
      "10311\n"
     ]
    }
   ],
   "source": [
    "# choose all indices where the norm is above the threshold\n",
    "#indices = torch.where(norms > norms_threshold)\n",
    "indices = list(set((torch.where(norms > norms_threshold)[0]).tolist()))\n",
    "print(len(indices))"
   ]
  },
  {
   "cell_type": "code",
   "execution_count": 21,
   "metadata": {},
   "outputs": [],
   "source": [
    "# now take the rows of the most diverse pairs and compute a singular value decomposition\n",
    "s = torch.linalg.svdvals(rna_counts[indices,:])"
   ]
  },
  {
   "cell_type": "code",
   "execution_count": 24,
   "metadata": {},
   "outputs": [
    {
     "data": {
      "image/png": "[encoded data removed]",
      "text/plain": [
       "<Figure size 500x300 with 1 Axes>"
      ]
     },
     "metadata": {},
     "output_type": "display_data"
    }
   ],
   "source": [
    "# plot a histogram of s\n",
    "fig, ax = plt.subplots(figsize=(5, 3))\n",
    "plt.hist(s, bins=50)\n",
    "plt.xlabel('Singular values')\n",
    "plt.ylabel('Frequency')\n",
    "plt.yscale('log')\n",
    "plt.show()"
   ]
  },
  {
   "cell_type": "code",
   "execution_count": 25,
   "metadata": {},
   "outputs": [
    {
     "name": "stdout",
     "output_type": "stream",
     "text": [
      "Number of singular values above 1:  100\n"
     ]
    }
   ],
   "source": [
    "# how many singular values are above 1?\n",
    "print(\"Number of singular values above 1: \", len(s[s > 1]))"
   ]
  },
  {
   "cell_type": "code",
   "execution_count": 28,
   "metadata": {},
   "outputs": [
    {
     "name": "stdout",
     "output_type": "stream",
     "text": [
      "Number of singular values above 1:  9102\n",
      "Number of singular values above 1:  244\n",
      "Number of singular values above 1:  114\n",
      "Number of singular values above 1:  100\n"
     ]
    }
   ],
   "source": [
    "# how many singular values are above 1?\n",
    "print(\"Number of singular values above 1: \", len(s[s > 1e-4]))\n",
    "print(\"Number of singular values above 1: \", len(s[s > 1e-3]))\n",
    "print(\"Number of singular values above 1: \", len(s[s > 1e-2]))\n",
    "print(\"Number of singular values above 1: \", len(s[s > 1e-1]))"
   ]
  },
  {
   "cell_type": "markdown",
   "metadata": {},
   "source": [
    "# Estimation"
   ]
  },
  {
   "cell_type": "code",
   "execution_count": 2,
   "metadata": {},
   "outputs": [],
   "source": [
    "method_name = ['PCA_90', 'PCA_99', 'Correlation', 'Distance_Exponent', 'PCA_skdim', 'Correlation_skdim', 'DANCo_skdim', 'ESS_skdim', 'FisherS_skdim', 'kNN_skdim', 'MADA_skdim', 'MiND_ML_skdim', 'MLE_skdim', 'MOM_skdim', 'TLE_skdim', 'TwoNN_skdim', 'AE_Superposition']\n",
    "exec_times = [18, 18, 64, 64, 11, 25, None, 718, 23, 376, None, 19, 11, 17, 13, 17, 26+62+4*12]\n",
    "dimensions = [31, 78, 18, 18, 32, 11, None, 24, 4, 4, None, 10, 17, 15, 17, 20, 103]"
   ]
  },
  {
   "cell_type": "code",
   "execution_count": 4,
   "metadata": {},
   "outputs": [
    {
     "name": "stderr",
     "output_type": "stream",
     "text": [
      "/tmp/ipykernel_184932/2413666372.py:8: UserWarning: FixedFormatter should only be used together with FixedLocator\n",
      "  ax[1].set_xticklabels(ax[1].get_xticklabels(), rotation=90)\n",
      "/tmp/ipykernel_184932/2413666372.py:11: UserWarning: FixedFormatter should only be used together with FixedLocator\n",
      "  ax[0].set_xticklabels(ax[0].get_xticklabels(), rotation=90)\n"
     ]
    },
    {
     "data": {
      "image/png": "[encoded data removed]",
      "text/plain": [
       "<Figure size 1000x300 with 2 Axes>"
      ]
     },
     "metadata": {},
     "output_type": "display_data"
    }
   ],
   "source": [
    "# plot the execution times and dimensions\n",
    "plot_df2 = pd.DataFrame({'method': method_name, 'execution_time': exec_times, 'dimension': dimensions})\n",
    "# sort by dimension\n",
    "plot_df2 = plot_df2.sort_values(by='dimension', ascending=True)\n",
    "\n",
    "fig, ax = plt.subplots(1, 2, figsize=(10, 3))\n",
    "sns.barplot(data=plot_df2, x='method', y='execution_time', ax=ax[1])\n",
    "ax[1].set_xticklabels(ax[1].get_xticklabels(), rotation=90)\n",
    "ax[1].set_ylabel('Execution time (min)')\n",
    "sns.barplot(data=plot_df2, x='method', y='dimension', ax=ax[0])\n",
    "ax[0].set_xticklabels(ax[0].get_xticklabels(), rotation=90)\n",
    "ax[0].set_ylabel('Dimension')\n",
    "plt.show()"
   ]
  }
 ],
 "metadata": {
  "kernelspec": {
   "display_name": "sc_mechinterp",
   "language": "python",
   "name": "python3"
  },
  "language_info": {
   "codemirror_mode": {
    "name": "ipython",
    "version": 3
   },
   "file_extension": ".py",
   "mimetype": "text/x-python",
   "name": "python",
   "nbconvert_exporter": "python",
   "pygments_lexer": "ipython3",
   "version": "3.9.20"
  }
 },
 "nbformat": 4,
 "nbformat_minor": 2
}
